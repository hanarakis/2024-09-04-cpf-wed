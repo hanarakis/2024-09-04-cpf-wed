{
  "nbformat": 4,
  "nbformat_minor": 0,
  "metadata": {
    "colab": {
      "provenance": []
    },
    "kernelspec": {
      "name": "python3",
      "display_name": "Python 3"
    },
    "language_info": {
      "name": "python"
    }
  },
  "cells": [
    {
      "cell_type": "code",
      "execution_count": null,
      "metadata": {
        "id": "QiUaJaZmRP0l"
      },
      "outputs": [],
      "source": [
        "print(\"hellow world!!\")"
      ]
    },
    {
      "cell_type": "code",
      "source": [
        "print(\"hellow python\")\n"
      ],
      "metadata": {
        "id": "tmn2EJuVRZdA"
      },
      "execution_count": null,
      "outputs": []
    },
    {
      "cell_type": "code",
      "source": [
        "list1=[1,23,3,45,5]\n"
      ],
      "metadata": {
        "id": "dHJ1D0Y3S7gp"
      },
      "execution_count": null,
      "outputs": []
    },
    {
      "cell_type": "code",
      "source": [
        "print(list1)\n"
      ],
      "metadata": {
        "id": "VM4uC2BKTpVh"
      },
      "execution_count": null,
      "outputs": []
    },
    {
      "cell_type": "code",
      "source": [
        "print('My name is Eldmia Ega')"
      ],
      "metadata": {
        "id": "eLZwIY_WXbZK"
      },
      "execution_count": null,
      "outputs": []
    },
    {
      "cell_type": "code",
      "source": [
        "num1=1313\n",
        "num2=-134\n",
        "print(num1//num2)"
      ],
      "metadata": {
        "id": "zKW_NyNRYAbi"
      },
      "execution_count": null,
      "outputs": []
    },
    {
      "cell_type": "code",
      "source": [
        "num3=34\n",
        "num3 +=2\n",
        "print(num3)"
      ],
      "metadata": {
        "id": "yXgwctZ1YR1p"
      },
      "execution_count": null,
      "outputs": []
    },
    {
      "cell_type": "code",
      "source": [
        "print(pow(3,3))#제곱\n",
        "\n"
      ],
      "metadata": {
        "id": "ti9yGvayacKK"
      },
      "execution_count": null,
      "outputs": []
    },
    {
      "cell_type": "code",
      "source": [
        "print(abs(33))#절대값"
      ],
      "metadata": {
        "id": "a5Utc5uOa80q"
      },
      "execution_count": null,
      "outputs": []
    },
    {
      "cell_type": "code",
      "source": [
        "print(min(3,4,5,6,6,2,266))#최솟값"
      ],
      "metadata": {
        "id": "-AyFxLeqbHcy"
      },
      "execution_count": null,
      "outputs": []
    },
    {
      "cell_type": "code",
      "source": [
        "print(max(3,4,5,6,8,2,266))#최댓값"
      ],
      "metadata": {
        "id": "ugKeFsa6blSy"
      },
      "execution_count": null,
      "outputs": []
    },
    {
      "cell_type": "code",
      "source": [
        "print(round(3.14))#반올림"
      ],
      "metadata": {
        "id": "gLP_TuuVbtJ7"
      },
      "execution_count": null,
      "outputs": []
    },
    {
      "cell_type": "code",
      "source": [
        "from math import*\n",
        "print(floor(4.99))#내림\n",
        "print(ceil(3.14))#올림\n",
        "print(sqrt(16))#제곱근\n",
        "\n"
      ],
      "metadata": {
        "id": "NH_6cjDtb23K"
      },
      "execution_count": null,
      "outputs": []
    },
    {
      "cell_type": "code",
      "source": [
        "from random import*\n",
        "print(random())#0.0~1.0미만의 임의의 값 생성"
      ],
      "metadata": {
        "id": "VkzI1in7cEcL"
      },
      "execution_count": null,
      "outputs": []
    },
    {
      "cell_type": "code",
      "source": [
        "from random import*\n",
        "print(randint(0,10))#0~10미만의 임의의"
      ],
      "metadata": {
        "id": "6hiWvificN-6"
      },
      "execution_count": null,
      "outputs": []
    },
    {
      "cell_type": "markdown",
      "source": [
        "## 사랑해여ㅛ 교수님\n"
      ],
      "metadata": {
        "id": "Z7qiO4nKdnUb"
      }
    },
    {
      "cell_type": "code",
      "source": [
        "import pylab as py\n",
        "\n",
        "x_deg = py.arange(-180,180+1,)\n",
        "x_rad = py.deg2rad(x_deg)\n",
        "y=py.sin(x_rad)\n",
        "\n",
        "py.plot(x_deg,y)\n",
        "\n",
        "py.xlabel('x(deg)')\n",
        "py.ylabel('sin(x)')\n",
        "py.grid(True)"
      ],
      "metadata": {
        "id": "iNj6icY6d4cS"
      },
      "execution_count": null,
      "outputs": []
    },
    {
      "cell_type": "code",
      "source": [],
      "metadata": {
        "id": "89OGEOBBeAPJ"
      },
      "execution_count": null,
      "outputs": []
    },
    {
      "cell_type": "code",
      "source": [],
      "metadata": {
        "id": "84AMMM2Ie_hq"
      },
      "execution_count": null,
      "outputs": []
    }
  ]
}